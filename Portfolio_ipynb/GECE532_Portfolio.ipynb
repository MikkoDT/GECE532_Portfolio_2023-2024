{
  "nbformat": 4,
  "nbformat_minor": 0,
  "metadata": {
    "colab": {
      "provenance": []
    },
    "kernelspec": {
      "name": "python3",
      "display_name": "Python 3"
    },
    "language_info": {
      "name": "python"
    }
  },
  "cells": [
    {
      "cell_type": "markdown",
      "source": [
        "# **GECE 532: Signals, Systems and Control**\n",
        "\n",
        "**Portfolio**: **a course requirement **"
      ],
      "metadata": {
        "id": "4CYns9YM0vSh"
      }
    },
    {
      "cell_type": "markdown",
      "source": [
        "# Table of Contents\n",
        "\n",
        "\n",
        "*   Mindmap\n",
        "*   Syllabus\n",
        "*   Course Project\n",
        "      Title:\n",
        "      Subject:\n",
        "      - Problem Statement\n",
        "      - Proposed Solution\n",
        "      - Main Objective\n",
        "      - Methodology\n",
        "      - Results and Discussion\n",
        "      - Conclusion\n",
        "*   Lecture and Practice Notes\n",
        "*   Self and Peer Assessment\n",
        "\n",
        "\n",
        "\n",
        "\n",
        "\n"
      ],
      "metadata": {
        "id": "KzUEPU2e2-gI"
      }
    },
    {
      "cell_type": "code",
      "execution_count": null,
      "metadata": {
        "id": "AeZLm4qcxJBN"
      },
      "outputs": [],
      "source": []
    }
  ]
}